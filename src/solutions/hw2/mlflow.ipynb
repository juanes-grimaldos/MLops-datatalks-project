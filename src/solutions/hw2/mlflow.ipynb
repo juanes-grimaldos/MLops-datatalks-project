{
 "cells": [
  {
   "cell_type": "code",
   "execution_count": 1,
   "id": "0e145031",
   "metadata": {},
   "outputs": [
    {
     "data": {
      "text/plain": [
       "<Popen: returncode: None args: ['mlflow', 'ui', '--backend-store-uri', 'sqli...>"
      ]
     },
     "execution_count": 1,
     "metadata": {},
     "output_type": "execute_result"
    },
    {
     "name": "stderr",
     "output_type": "stream",
     "text": [
      "2024/05/24 22:11:56 WARNING mlflow.store.db.utils: SQLAlchemy engine could not be created. The following exception is caught.\n",
      "(sqlite3.OperationalError) unable to open database file\n",
      "(Background on this error at: https://sqlalche.me/e/14/e3q8)\n",
      "Operation will be retried in 0.1 seconds\n",
      "2024/05/24 22:11:56 WARNING mlflow.store.db.utils: SQLAlchemy engine could not be created. The following exception is caught.\n",
      "(sqlite3.OperationalError) unable to open database file\n",
      "(Background on this error at: https://sqlalche.me/e/14/e3q8)\n",
      "Operation will be retried in 0.3 seconds\n",
      "2024/05/24 22:11:56 WARNING mlflow.store.db.utils: SQLAlchemy engine could not be created. The following exception is caught.\n",
      "(sqlite3.OperationalError) unable to open database file\n",
      "(Background on this error at: https://sqlalche.me/e/14/e3q8)\n",
      "Operation will be retried in 0.7 seconds\n",
      "2024/05/24 22:11:57 WARNING mlflow.store.db.utils: SQLAlchemy engine could not be created. The following exception is caught.\n",
      "(sqlite3.OperationalError) unable to open database file\n",
      "(Background on this error at: https://sqlalche.me/e/14/e3q8)\n",
      "Operation will be retried in 1.5 seconds\n",
      "2024/05/24 22:11:58 WARNING mlflow.store.db.utils: SQLAlchemy engine could not be created. The following exception is caught.\n",
      "(sqlite3.OperationalError) unable to open database file\n",
      "(Background on this error at: https://sqlalche.me/e/14/e3q8)\n",
      "Operation will be retried in 3.1 seconds\n",
      "2024/05/24 22:12:01 WARNING mlflow.store.db.utils: SQLAlchemy engine could not be created. The following exception is caught.\n",
      "(sqlite3.OperationalError) unable to open database file\n",
      "(Background on this error at: https://sqlalche.me/e/14/e3q8)\n",
      "Operation will be retried in 6.3 seconds\n",
      "2024/05/24 22:12:08 WARNING mlflow.store.db.utils: SQLAlchemy engine could not be created. The following exception is caught.\n",
      "(sqlite3.OperationalError) unable to open database file\n",
      "(Background on this error at: https://sqlalche.me/e/14/e3q8)\n",
      "Operation will be retried in 12.7 seconds\n",
      "2024/05/24 22:12:20 WARNING mlflow.store.db.utils: SQLAlchemy engine could not be created. The following exception is caught.\n",
      "(sqlite3.OperationalError) unable to open database file\n",
      "(Background on this error at: https://sqlalche.me/e/14/e3q8)\n",
      "Operation will be retried in 25.5 seconds\n",
      "Bad pipe message: %s [b' 10.0; Win64; x64; rv:126.0) Gecko/20100101 Firefox/126.0\\r\\nAccept: text/html,']\n",
      "Bad pipe message: %s [b'plication/xhtml+xml,application/xml;q=0.9,image/avif,image/webp,*/*;q=0.8\\r\\nAccept-Language: es-E']\n",
      "Bad pipe message: %s [b'es;q=0.8,en-US;q=0.5,en;q=0.3\\r\\nAccept-Encoding: gzip, deflate, br, zstd\\r\\nConnectio']\n",
      "Bad pipe message: %s [b' keep-alive\\r\\nCookie: _xsrf=2|b92b45e2|79350b776fc658be5cbf4054a983b871|1716587999; username-127-0-0-1-8888=\"2']\n",
      "Bad pipe message: %s [b':0|10:1716588028|23:username-127-0-0-1-8888|44:OWVhZWE2ZjZiMGY2NDg4YWJlZTFlN2E5ZGY0ZmFmZjg=|214a9aef567458cd18e0c21421bae2a', b'8f2016ed7d69a0873bd23be76863844\"\\r\\nUpgrade-Insecure', b'equests: 1\\r\\nSec-Fetch-Dest: document\\r\\nSec-Fe']\n",
      "2024/05/24 22:12:46 WARNING mlflow.store.db.utils: SQLAlchemy engine could not be created. The following exception is caught.\n",
      "(sqlite3.OperationalError) unable to open database file\n",
      "(Background on this error at: https://sqlalche.me/e/14/e3q8)\n",
      "Operation will be retried in 51.1 seconds\n"
     ]
    }
   ],
   "source": [
    "import subprocess\n",
    "\n",
    "MLFLOW_TRACKING_URI = \"sqlite:///data/mlflow.db\"\n",
    "\n",
    "subprocess.Popen([\"mlflow\", \"ui\", \"--backend-store-uri\", MLFLOW_TRACKING_URI])\n",
    "    "
   ]
  }
 ],
 "metadata": {
  "kernelspec": {
   "display_name": "Python 3 (ipykernel)",
   "language": "python",
   "name": "python3"
  },
  "language_info": {
   "codemirror_mode": {
    "name": "ipython",
    "version": 3
   },
   "file_extension": ".py",
   "mimetype": "text/x-python",
   "name": "python",
   "nbconvert_exporter": "python",
   "pygments_lexer": "ipython3",
   "version": "3.9.12"
  }
 },
 "nbformat": 4,
 "nbformat_minor": 5
}
